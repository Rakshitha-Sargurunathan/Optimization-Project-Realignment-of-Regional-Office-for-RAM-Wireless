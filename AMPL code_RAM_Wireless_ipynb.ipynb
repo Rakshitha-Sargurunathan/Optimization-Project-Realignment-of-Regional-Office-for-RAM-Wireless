{
  "nbformat": 4,
  "nbformat_minor": 0,
  "metadata": {
    "colab": {
      "provenance": []
    },
    "kernelspec": {
      "name": "python3",
      "display_name": "Python 3"
    },
    "language_info": {
      "name": "python"
    }
  },
  "cells": [
    {
      "cell_type": "markdown",
      "source": [
        "#**Realignment of Regional Office for RAM Wireless**"
      ],
      "metadata": {
        "id": "SRnwc-zPnvsD"
      }
    },
    {
      "cell_type": "markdown",
      "source": [
        "### Install Required Libraries\n",
        "This step installs the necessary Python libraries for the project:\n",
        "- `amplpy`: Interface for running AMPL models in Python.\n",
        "- `ampltools`: For managing AMPL licenses and tools.\n",
        "- `pandas`: For data manipulation and preprocessing.\n",
        "- `openpyxl`: For handling Excel files.\n"
      ],
      "metadata": {
        "id": "d5v_-SMgRPsm"
      }
    },
    {
      "cell_type": "code",
      "source": [
        "# Import necessary libraries\n",
        "!pip install -q amplpy ampltools pandas openpyxl"
      ],
      "metadata": {
        "id": "yf6P9XX85oML"
      },
      "execution_count": null,
      "outputs": []
    },
    {
      "cell_type": "markdown",
      "source": [
        "### Initialize AMPL Environment\n",
        "This block sets up the AMPL environment for use within Google Colab or a local machine:\n",
        "- **Modules**: Specifies solvers such as `coin`, `gurobi`, `cplex`, etc.\n",
        "- **AMPL Object**: Instantiates the AMPL object, using either a local installation or the notebook environment.\n",
        "- **Register Magics**: Allows the use of `%ampl_eval` and `%ampl_set` commands in the notebook.\n"
      ],
      "metadata": {
        "id": "TwZG3JidRbpT"
      }
    },
    {
      "cell_type": "code",
      "source": [
        "\n",
        "# Google Colab & AMPL integration\n",
        "MODULES, LICENSE_UUID = [\"coin\", 'gurobi', \"cplex\", \"highs\", \"gokestrel\"], \"42fc7eb6-69aa-445d-b655-3ad24d836541\"\n",
        "from amplpy import tools\n",
        "from ampltools import cloud_platform_name, ampl_notebook, register_magics\n",
        "\n",
        "# instantiate AMPL object and register magics\n",
        "if cloud_platform_name() is None:\n",
        "    ampl = AMPL() # Use local installation of AMPL\n",
        "else:\n",
        "    ampl = tools.ampl_notebook(modules=MODULES, license_uuid=LICENSE_UUID, g=globals())\n",
        "\n",
        "register_magics(ampl_object=ampl)"
      ],
      "metadata": {
        "id": "bOjIQJXn587h",
        "colab": {
          "base_uri": "https://localhost:8080/"
        },
        "outputId": "88c224b2-e8a0-40db-a560-ecebec3f2f39"
      },
      "execution_count": null,
      "outputs": [
        {
          "output_type": "stream",
          "name": "stdout",
          "text": [
            "Licensed to Bundle #6741.7193 expiring 20241231: INFO 645 Prescriptive Analytics, Prof. Paul Brooks, Virginia Commonwealth University.\n"
          ]
        }
      ]
    },
    {
      "cell_type": "markdown",
      "source": [
        "### Import Necessary Libraries\n",
        "This block imports all required libraries for the project:\n",
        "- `pandas`: For data manipulation and preprocessing.\n",
        "- `numpy`: For handling numerical operations.\n",
        "- `google.colab.files`: To handle file uploads in Google Colab.\n"
      ],
      "metadata": {
        "id": "-BUWp09ySLWN"
      }
    },
    {
      "cell_type": "code",
      "source": [
        "# Import Necessary Libraries\n",
        "import pandas as pd  # Data manipulation and preprocessing\n",
        "import numpy as np  # Numerical operations\n",
        "from google.colab import files  # File uploads in Google Colab\n"
      ],
      "metadata": {
        "id": "mqpRwSpd5855"
      },
      "execution_count": null,
      "outputs": []
    },
    {
      "cell_type": "markdown",
      "source": [
        "### Access Data from Google Drive\n",
        "Use this code block if you're working in Google Colab and want to load the dataset from your Google Drive.  \n",
        "**Important**:  \n",
        "Ensure that the dataset has been cleaned to remove any metadata (e.g., extra headers or notes).  \n",
        "Uncleaned metadata can interfere with Python and AMPL processing, causing errors.\n",
        "\n"
      ],
      "metadata": {
        "id": "ps3qbV5HTN54"
      }
    },
    {
      "cell_type": "code",
      "source": [
        "# Mount Google Drive to access the dataset\n",
        "from google.colab import drive\n",
        "drive.mount('/content/drive')"
      ],
      "metadata": {
        "colab": {
          "base_uri": "https://localhost:8080/"
        },
        "id": "emj0LCiQ581O",
        "outputId": "daa5c3a8-5017-419a-8981-585892a4b3ed"
      },
      "execution_count": null,
      "outputs": [
        {
          "output_type": "stream",
          "name": "stdout",
          "text": [
            "Drive already mounted at /content/drive; to attempt to forcibly remount, call drive.mount(\"/content/drive\", force_remount=True).\n"
          ]
        }
      ]
    },
    {
      "cell_type": "markdown",
      "source": [
        "### Load Dataset from Google Drive\n",
        "This code block provides the option to load the dataset from Google Drive. However, we recommend caution when using this method due to potential issues:\n",
        "\n",
        "- **Metadata Issue**: The original dataset contained metadata (e.g., extra headers and notes) that caused significant issues for Python and AMPL processing. To avoid this, ensure you are using the **cleaned version of the dataset**.\n",
        "- **File Path Adjustment**: Update the `file_path` to match the exact location of your dataset in Google Drive.\n",
        "\n",
        "**Note**:  \n",
        "If you encounter issues with loading the data using this method, refer to the next code block to upload the dataset directly from your machine. This approach is simpler and more reliable.\n"
      ],
      "metadata": {
        "id": "HXsvWsaHcq32"
      }
    },
    {
      "cell_type": "code",
      "source": [
        "\n",
        "\n",
        "# Encountered multiple issues with loading the dataset from Google Drive.\n",
        "# If this method doesn't work for you, use the next code block to upload the file directly from your machine for a simpler and more reliable approach (Make sure to use our cleaned dataset as the metadata caused issues for Python).\n",
        "\n",
        "\n",
        "#Group file path\n",
        "# # Specify the file path (adjust to where you saved the cleaned dataset)\n",
        "file_path = '/content/drive/MyDrive/645 - PRESCRIPTIVE ANALYSIS/SIMULATION PROBLEMS/realignment_data_forAMPL.xlsx'\n",
        "\n",
        "# # Load sheets and clean data (convert \"--\" to NaN for missing values)\n",
        "store_data = pd.read_excel(file_path, sheet_name='Store Data').replace(\"--\", np.nan)\n",
        "regional_office_data = pd.read_excel(file_path, sheet_name='Regional Office Data').replace(\"--\", np.nan)\n",
        "travel_data = pd.read_excel(file_path, sheet_name='Travel').replace(\"--\", np.nan)\n"
      ],
      "metadata": {
        "id": "xQ5dQ8zq58zn",
        "colab": {
          "base_uri": "https://localhost:8080/"
        },
        "outputId": "4de5874e-feaf-4366-af18-7a17011453da"
      },
      "execution_count": null,
      "outputs": [
        {
          "output_type": "stream",
          "name": "stderr",
          "text": [
            "<ipython-input-5-ed366694c603>:12: FutureWarning: Downcasting behavior in `replace` is deprecated and will be removed in a future version. To retain the old behavior, explicitly call `result.infer_objects(copy=False)`. To opt-in to the future behavior, set `pd.set_option('future.no_silent_downcasting', True)`\n",
            "  travel_data = pd.read_excel(file_path, sheet_name='Travel').replace(\"--\", np.nan)\n"
          ]
        }
      ]
    },
    {
      "cell_type": "markdown",
      "source": [
        "### Upload Dataset Directly from Your Machine (Recommended)\n",
        "This code block allows you to upload the dataset directly from your local machine, avoiding the need for Google Drive.\n",
        "\n",
        "**Important**:  \n",
        "- Use the cleaned version of the dataset: `'realignment_data_forAMPL.xlsx'`.  \n",
        "- The cleaned dataset ensures that issues caused by metadata (e.g., extra headers or notes) in the original file are avoided.  \n",
        "- This method is simpler and more reliable compared to the Google Drive option.\n"
      ],
      "metadata": {
        "id": "faABUD04dKXd"
      }
    },
    {
      "cell_type": "code",
      "source": [
        "\n",
        "\n",
        "# Upload the file\n",
        "#uploaded = files.upload()\n",
        "\n",
        "# Assumes the uploaded filename is 'realignment_data_forAMPL.xlsx' (Cleaned version with metadata removed etc.)\n",
        "#file_path = list(uploaded.keys())[0]  # Get the uploaded file's name\n",
        "\n",
        "# Load sheets and convert \"--\" to NaN for missing values\n",
        "#store_data = pd.read_excel(file_path, sheet_name='Store Data').replace(\"--\", np.nan)\n",
        "#regional_office_data = pd.read_excel(file_path, sheet_name='Regional Office Data').replace(\"--\", np.nan)\n",
        "#travel_data = pd.read_excel(file_path, sheet_name='Travel').replace(\"--\", np.nan)\n"
      ],
      "metadata": {
        "id": "FvRSWAWKsieP"
      },
      "execution_count": null,
      "outputs": []
    },
    {
      "cell_type": "markdown",
      "source": [
        "### Define Sets and Prepare Data Dictionaries for Optimization\n",
        "This code block prepares the necessary data dictionaries for the optimization problem, including adjustments for round trips.\n",
        "\n",
        "**Key Adjustments and Details**:\n",
        "1. **Round Trip Adjustments**:\n",
        "   - Both travel times and distances are doubled to account for round trips.\n",
        "2. **Handling Missing Data**:\n",
        "   - Missing values (`NaN`) in the travel dataset are excluded from the dictionaries, as they represent locations that do not travel to certain regional offices.\n",
        "3. **Dictionaries for Optimization**:\n",
        "   - Data is converted into dictionaries that map relevant relationships (e.g., distance between offices and stores, hours required per store per area).\n",
        "4. **Set Definitions**:\n",
        "   - Defines sets for **Regional Offices (R)**, **Stores (S)**, and **Service Areas (A)**.\n",
        "\n",
        "**Important Note**:\n",
        "- The cleaned version of the dataset (`realignment_data_forAMPL.xlsx`) was required to ensure proper processing, as the original metadata caused issues.\n"
      ],
      "metadata": {
        "id": "zeafDFVUd0YH"
      }
    },
    {
      "cell_type": "code",
      "source": [
        "# Define sets based on data columns\n",
        "R = regional_office_data['Unnamed: 0'].tolist()  # Regional offices\n",
        "S = store_data['Unnamed: 0'].tolist()  # Stores\n",
        "A = ['Inventory', 'Payroll', 'Hiring', 'Marketing', 'Merchandising']  # Areas\n",
        "\n",
        "# Prepare distance dictionary, handling missing values by excluding NaNs\n",
        "distance = travel_data.melt(id_vars='Unnamed: 0',\n",
        "                            value_vars=['Staunton Mileage', 'Warrenton Mileage', 'Richmond Mileage', 'Tappahannock Mileage'],\n",
        "                            var_name='Office', value_name='Distance')\n",
        "distance['Office'] = distance['Office'].str.replace(' Mileage', '')\n",
        "# Create dictionary, excluding entries with NaN values and doubling distances for round trips\n",
        "distance_dict = {(row['Office'], row['Unnamed: 0']): row['Distance'] * 2  # Double for round trips\n",
        "                 for _, row in distance.iterrows() if pd.notna(row['Distance'])}\n",
        "\n",
        "# Prepare travel_time dictionary, handling missing values by excluding specific (Office, Store) pairs\n",
        "travel_time = travel_data.melt(id_vars='Unnamed: 0',\n",
        "                               value_vars=['Staunton Travel Time', 'Warrenton Travel Time', 'Richmond Travel Time', 'Tappahannock Travel Time'],\n",
        "                               var_name='Office', value_name='Travel Time')\n",
        "travel_time['Office'] = travel_time['Office'].str.replace(' Travel Time', '')\n",
        "# Create dictionary, excluding specific (Office, Store) pairs with NaN values\n",
        "travel_time_dict = {(row['Office'], row['Unnamed: 0']): row['Travel Time'] * 2  # Double travel times for round trips\n",
        "                    for _, row in travel_time.iterrows() if pd.notna(row['Travel Time'])}\n",
        "\n",
        "# Prepare hours_avail dictionary with correct keys (office, area)\n",
        "hours_avail = regional_office_data.melt(id_vars='Unnamed: 0',\n",
        "                                        value_vars=['Inventory Hours Available', 'Payroll Hours Available',\n",
        "                                                    'Hiring Hours Available', 'Marketing Hours Available',\n",
        "                                                    'Merchandising Hours Available'],\n",
        "                                        var_name='Area', value_name='Hours Available')\n",
        "hours_avail['Area'] = hours_avail['Area'].str.replace(' Hours Available', '')  # Remove extra text\n",
        "hours_avail_dict = {(row['Unnamed: 0'], row['Area']): row['Hours Available'] for _, row in hours_avail.iterrows()}\n",
        "\n",
        "# Prepare hours_req dictionary with correct keys (store, area)\n",
        "hours_req = store_data.melt(id_vars='Unnamed: 0',\n",
        "                            value_vars=['Inventory Hours', 'Payroll Hours', 'Hiring Hours',\n",
        "                                        'Marketing Hours', 'Merchandising Hours'],\n",
        "                            var_name='Area', value_name='Hours Required')\n",
        "hours_req['Area'] = hours_req['Area'].str.replace(' Hours', '')  # Remove extra text\n",
        "hours_req_dict = {(row['Unnamed: 0'], row['Area']): row['Hours Required'] for _, row in hours_req.iterrows()}\n",
        "\n",
        "# Prepare trips dictionary with correct keys (store, area)\n",
        "trips = store_data.melt(id_vars='Unnamed: 0',\n",
        "                        value_vars=['Inventory Trips', 'Payroll Trips', 'Hiring Trips',\n",
        "                                    'Marketing Trips', 'Merchandising Trips'],\n",
        "                        var_name='Area', value_name='Trips Required')\n",
        "trips['Area'] = trips['Area'].str.replace(' Trips', '')  # Remove extra text\n",
        "trips_dict = {(row['Unnamed: 0'], row['Area']): row['Trips Required'] for _, row in trips.iterrows()}\n"
      ],
      "metadata": {
        "id": "wFGMG5_p6OPZ"
      },
      "execution_count": null,
      "outputs": []
    },
    {
      "cell_type": "markdown",
      "source": [
        "### Validate and Clean Data Dictionaries\n",
        "This code block ensures the data dictionaries used in the optimization are clean and free of errors.\n",
        "\n",
        "**Details and Adjustments**:\n",
        "1. **Validation and Cleaning**:\n",
        "   - A custom function (`clean_and_validate_dict`) is used to:\n",
        "     - Replace any remaining `NaN` values with `0`.\n",
        "     - Print a warning if any non-numeric value is detected, skipping those entries.\n",
        "2. **Targeted Cleaning**:\n",
        "   - Only specific dictionaries (`hours_avail_dict`, `hours_req_dict`, and `trips_dict`) are cleaned, as `distance_dict` and `travel_time_dict` were already cleaned earlier.\n",
        "3. **Ensuring Numeric Values**:\n",
        "   - Validates that all dictionary values are numeric (either integers or floats) to prevent errors during optimization.\n",
        "\n",
        "**Key Note**:\n",
        "- This step is necessary to ensure the integrity of data passed into the optimization model.\n"
      ],
      "metadata": {
        "id": "sJll7HfNeF66"
      }
    },
    {
      "cell_type": "code",
      "source": [
        "# Function to validate dictionary and replace NaNs (only applied where needed)\n",
        "def clean_and_validate_dict(data_dict, dict_name):\n",
        "    cleaned_dict = {}\n",
        "    for key, value in data_dict.items():\n",
        "        # Ensure value is numeric, replace NaN with 0\n",
        "        if pd.isna(value):\n",
        "            value = 0\n",
        "        elif not isinstance(value, (int, float)):\n",
        "            print(f\"Non-numeric value found in {dict_name} at {key}: {value}\")\n",
        "            continue\n",
        "        cleaned_dict[key] = value\n",
        "    return cleaned_dict\n",
        "\n",
        "# No need to clean distance_dict and travel_time_dict, as NaNs have already been handled during their creation\n",
        "# Clean and validate only the necessary dictionaries\n",
        "hours_avail_dict = clean_and_validate_dict(hours_avail_dict, \"hours_avail\")\n",
        "hours_req_dict = clean_and_validate_dict(hours_req_dict, \"hours_req\")\n",
        "trips_dict = clean_and_validate_dict(trips_dict, \"trips\")\n"
      ],
      "metadata": {
        "id": "zduNJpyP6TLI"
      },
      "execution_count": null,
      "outputs": []
    },
    {
      "cell_type": "markdown",
      "source": [
        "### AMPL Optimization Model Implementation\n",
        "This code block defines and solves the optimization model using AMPL. The model calculates the optimal assignment of stores to regional offices to minimize travel costs while satisfying capacity constraints.\n",
        "\n",
        "**Key Adjustments and Workarounds**:\n",
        "1. **Round Trip Adjustments**:\n",
        "   - Both `travel_time` and `distance` are multiplied by 2 to account for round trips. This adjustment was necessary after discovering that previous calculations underestimated the total cost by only considering one-way trips.\n",
        "\n",
        "2. **Handling Missing Travel Data (`\"--\"` / NaN Values)**:\n",
        "   - Missing data in the `travel` sheet was initially represented as `\"--\"`, which was converted to `NaN` during data preprocessing.\n",
        "   - For the AMPL model, a **prohibitively large number** (`LARGE = 1e6`) is used as a workaround. This ensures:\n",
        "     - Missing (office, store) combinations are effectively excluded from optimization due to their unrealistically high cost.\n",
        "   - This workaround resolves the issue of Python and AMPL misinterpreting missing values during the calculation.\n",
        "\n",
        "3. **Parameters and Decision Variables**:\n",
        "   - The cost parameters (`mileage_rate` and `hourly_rate`) are used to calculate the objective function.\n",
        "   - Binary decision variable `x` is used to determine store-to-office assignments.\n",
        "\n",
        "4. **Objective Function**:\n",
        "   - Minimizes the total travel cost, which includes mileage and travel time costs for all store-regional office assignments.\n",
        "\n",
        "5. **Constraints**:\n",
        "   - **Assignment Constraint**: Each store must be assigned to exactly one regional office.\n",
        "   - **Capacity Constraint**: Total required hours (work + travel) for each regional office must not exceed the available employee hours.\n",
        "\n",
        "**Important Notes**:\n",
        "- The cleaned version of the dataset was critical to avoid metadata issues during processing.\n",
        "- The debug option (`display _conname, _con.sstatus, _con.slack`) can help identify any constraint violations or slack variables after solving the model.\n"
      ],
      "metadata": {
        "id": "52breLe2e_da"
      }
    },
    {
      "cell_type": "code",
      "execution_count": null,
      "metadata": {
        "id": "Be2sKB2F5HJl",
        "colab": {
          "base_uri": "https://localhost:8080/"
        },
        "outputId": "3884760f-04d8-417b-fe6c-b8b644867dd4"
      },
      "outputs": [
        {
          "output_type": "stream",
          "name": "stdout",
          "text": [
            "Error executing \"solve\" command:\n",
            "No solver specified:  option solver is ''.\n"
          ]
        }
      ],
      "source": [
        "# Set cost parameters\n",
        "mileage_rate = 0.585\n",
        "hourly_rate = 26\n",
        "\n",
        "# Define the AMPL model\n",
        "ampl.eval('''\n",
        "reset;\n",
        "set R; # Regional offices\n",
        "set S; # Stores\n",
        "set A; # Service areas\n",
        "\n",
        "# Parameters\n",
        "param mileage_rate;\n",
        "param hourly_rate;\n",
        "param LARGE; # Large value to represent prohibitively high costs\n",
        "param distance {i in R, j in S} default LARGE; # Large value for round trips between regional offices and stores if missing\n",
        "param travel_time {i in R, j in S} default LARGE; # Large value for round-trip travel time between offices and stores if missing\n",
        "param hours_avail {i in R, k in A}; # Available hours per area in each regional office\n",
        "param hours_req {j in S, k in A}; # Hours required per area in each store\n",
        "param trips {j in S, k in A}; # Annual trips required per area per store\n",
        "\n",
        "# Decision Variables\n",
        "var x {i in R, j in S} binary; # 1 if store j is assigned to regional office i, 0 otherwise\n",
        "\n",
        "# Objective: Minimize total travel costs (mileage and salary)\n",
        "minimize total_travel_cost:\n",
        "    sum {i in R, j in S, k in A} trips[j, k] * (mileage_rate * distance[i, j] + hourly_rate * travel_time[i, j]) * x[i, j];\n",
        "\n",
        "# Constraints\n",
        "# 1. Assignment Constraint: Each store must be assigned to only one regional office\n",
        "subject to assignment_constraint {j in S}:\n",
        "    sum {i in R} x[i, j] = 1;\n",
        "\n",
        "# 2. Capacity Constraints: Total required hours (work + travel) for each area in each office must not exceed available hours\n",
        "subject to capacity_constraint {i in R, k in A}:\n",
        "    sum {j in S} (hours_req[j, k] + travel_time[i, j] * trips[j, k]) * x[i, j] <= hours_avail[i, k];\n",
        "''')\n",
        "\n",
        "# Set data in AMPL\n",
        "ampl.set['R'] = R\n",
        "ampl.set['S'] = S\n",
        "ampl.set['A'] = A\n",
        "\n",
        "ampl.param['mileage_rate'] = mileage_rate\n",
        "ampl.param['hourly_rate'] = hourly_rate\n",
        "ampl.param['LARGE'] = 1e6  # Set a large value for prohibitive cost\n",
        "ampl.param['distance'] = distance_dict\n",
        "ampl.param['travel_time'] = travel_time_dict\n",
        "ampl.param['hours_avail'] = hours_avail_dict\n",
        "ampl.param['hours_req'] = hours_req_dict\n",
        "ampl.param['trips'] = trips_dict\n",
        "\n",
        "# Solve the model\n",
        "ampl.solve()\n",
        "\n",
        "# Debugging: Display constraint slacks after solving\n",
        "# ampl.eval('display _conname, _con.sstatus, _con.slack;')\n"
      ]
    },
    {
      "cell_type": "code",
      "source": [
        "# Specify the solver and solve the model\n",
        "ampl.setOption('solver', 'cplex')\n",
        "ampl.solve()"
      ],
      "metadata": {
        "colab": {
          "base_uri": "https://localhost:8080/"
        },
        "id": "MukvKUYK6ZaG",
        "outputId": "73cd71ea-0a62-498f-f55e-d6e845244240"
      },
      "execution_count": null,
      "outputs": [
        {
          "output_type": "stream",
          "name": "stdout",
          "text": [
            "CPLEX 22.1.1: \b\b\b\b\b\b\b\b\b\b\b\b\b\bCPLEX 22.1.1: optimal solution; objective 195479.31\n",
            "17 simplex iterations\n"
          ]
        }
      ]
    },
    {
      "cell_type": "markdown",
      "source": [
        "### Solve the Optimization Model and Display Results\n",
        "This code block solves the optimization model using the specified solver (`CPLEX`) and prints the total travel cost in a clear and professional format.\n",
        "\n",
        "**Key Updates**:\n",
        "- The total cost is presented in a user-friendly message, suitable for sharing with higher-level stakeholders.\n",
        "- The cost accounts for all constraints, round trips, and adjusted parameters.\n"
      ],
      "metadata": {
        "id": "dzlN-0Z0fsRZ"
      }
    },
    {
      "cell_type": "code",
      "source": [
        "# Specify the solver and solve the model\n",
        "ampl.setOption('solver', 'cplex')\n",
        "ampl.solve()\n",
        "\n",
        "# Display the total travel cost in a user-friendly message\n",
        "total_cost = ampl.getObjective('total_travel_cost').value()\n",
        "print(f\"The optimal total travel cost for store-to-regional office assignments, accounting for round trips and capacity constraints, is: ${total_cost:,.2f}.\")\n"
      ],
      "metadata": {
        "colab": {
          "base_uri": "https://localhost:8080/"
        },
        "id": "9HnjfbCcfcog",
        "outputId": "4dbcc7ee-9829-4420-923b-6db6aaf5f1d1"
      },
      "execution_count": null,
      "outputs": [
        {
          "output_type": "stream",
          "name": "stdout",
          "text": [
            "CPLEX 22.1.1: \b\b\b\b\b\b\b\b\b\b\b\b\b\bCPLEX 22.1.1: optimal solution; objective 195479.31\n",
            "17 simplex iterations\n",
            "The optimal total travel cost for store-to-regional office assignments, accounting for round trips and capacity constraints, is: $195,479.31.\n"
          ]
        }
      ]
    },
    {
      "cell_type": "markdown",
      "source": [
        "### Display Store-to-Regional Office Assignments\n",
        "This code block processes the results of the optimization and displays the optimal assignments of stores (counties) to regional offices in a clear and user-friendly format.\n",
        "\n",
        "**Steps**:\n",
        "1. Extracts the results of the binary decision variable `x` (assignments) directly from the model as a Python dictionary.\n",
        "2. Filters the assignments to include only `(Office, Store)` pairs where `x[i, j] == 1`, indicating an assignment.\n",
        "3. Iterates through the filtered results to present each store's assignment to its respective regional office in a concise format.\n",
        "\n",
        "**Why This is Useful**:\n",
        "- Converts raw optimization results into a clear, professional summary for stakeholders.\n",
        "- Avoids reliance on AMPL's display command, ensuring results are handled entirely within Python for flexibility.\n"
      ],
      "metadata": {
        "id": "sC5qQ_6ahAA1"
      }
    },
    {
      "cell_type": "code",
      "source": [
        "# Extract assignments directly from x_result\n",
        "x_result = ampl.getVariable('x').getValues().toDict()\n",
        "\n",
        "# Filter and process only the assignments where x[i, j] == 1\n",
        "assignments = [(store, office) for (office, store), value in x_result.items() if value == 1]\n",
        "\n",
        "# Print the assignments in a user-friendly format\n",
        "print(\"\\nOptimal Store-to-Regional Office Assignments:\")\n",
        "for store, office in assignments:\n",
        "    print(f\"{store} -> {office}\")\n"
      ],
      "metadata": {
        "colab": {
          "base_uri": "https://localhost:8080/"
        },
        "id": "zZXfsU3bgVjp",
        "outputId": "7e341f9e-b2ae-4888-a1f4-75a45fb355c7"
      },
      "execution_count": null,
      "outputs": [
        {
          "output_type": "stream",
          "name": "stdout",
          "text": [
            "\n",
            "Optimal Store-to-Regional Office Assignments:\n",
            "Charles_City_County -> Richmond\n",
            "Chesterfield_County -> Richmond\n",
            "City_of_Richmond -> Richmond\n",
            "Cumberland_County -> Richmond\n",
            "Dinwiddie_County -> Richmond\n",
            "Fluvanna_County -> Richmond\n",
            "Goochland_County -> Richmond\n",
            "Hanover_County -> Richmond\n",
            "Henrico_County -> Richmond\n",
            "Hopewell_County -> Richmond\n",
            "James_City_County -> Richmond\n",
            "Louisa_County -> Richmond\n",
            "New_Kent_County -> Richmond\n",
            "Powhatan_County -> Richmond\n",
            "Prince_George_County -> Richmond\n",
            "Albemarle_County -> Staunton\n",
            "Amherst_County -> Staunton\n",
            "Augusta_County -> Staunton\n",
            "Buckingham_County -> Staunton\n",
            "Greene_County -> Staunton\n",
            "Madison_County -> Staunton\n",
            "Nelson_County -> Staunton\n",
            "Rockbridge_County -> Staunton\n",
            "Rockingham_County -> Staunton\n",
            "Caroline_County -> Tappahannock\n",
            "City_of_Fredericksburg -> Tappahannock\n",
            "Essex_County -> Tappahannock\n",
            "King_George_County -> Tappahannock\n",
            "King_William_County -> Tappahannock\n",
            "King_and_Queen_County -> Tappahannock\n",
            "Mathews_County -> Tappahannock\n",
            "Spotsylvania_County -> Tappahannock\n",
            "Westmoreland_County -> Tappahannock\n",
            "York_County -> Tappahannock\n",
            "Culpeper_County -> Warrenton\n",
            "Fauquier_County -> Warrenton\n",
            "Orange_County -> Warrenton\n",
            "Page_County -> Warrenton\n",
            "Prince_William_County -> Warrenton\n",
            "Rappahannock_County -> Warrenton\n",
            "Shenandoah_County -> Warrenton\n",
            "Stafford_County -> Warrenton\n",
            "Warren_County -> Warrenton\n"
          ]
        }
      ]
    },
    {
      "cell_type": "markdown",
      "source": [
        "# **PART B**"
      ],
      "metadata": {
        "id": "b_AkdBg5ccxE"
      }
    },
    {
      "cell_type": "code",
      "source": [
        "# Display the assignments\n",
        "ampl.display('x')"
      ],
      "metadata": {
        "colab": {
          "base_uri": "https://localhost:8080/"
        },
        "id": "aRIO0jrs6e5u",
        "outputId": "8c10a556-581c-488a-eabd-d0fbdc050a61",
        "collapsed": true
      },
      "execution_count": null,
      "outputs": [
        {
          "output_type": "stream",
          "name": "stdout",
          "text": [
            "x [*,*] (tr)\n",
            ":                      Richmond Staunton Tappahannock Warrenton    :=\n",
            "Albemarle_County           0        1          0           0\n",
            "Amherst_County             0        1          0           0\n",
            "Augusta_County             0        1          0           0\n",
            "Buckingham_County          0        1          0           0\n",
            "Caroline_County            0        0          1           0\n",
            "Charles_City_County        1        0          0           0\n",
            "Chesterfield_County        1        0          0           0\n",
            "City_of_Fredericksburg     0        0          1           0\n",
            "City_of_Richmond           1        0          0           0\n",
            "Culpeper_County            0        0          0           1\n",
            "Cumberland_County          1        0          0           0\n",
            "Dinwiddie_County           1        0          0           0\n",
            "Essex_County               0        0          1           0\n",
            "Fauquier_County            0        0          0           1\n",
            "Fluvanna_County            1        0          0           0\n",
            "Goochland_County           1        0          0           0\n",
            "Greene_County              0        1          0           0\n",
            "Hanover_County             1        0          0           0\n",
            "Henrico_County             1        0          0           0\n",
            "Hopewell_County            1        0          0           0\n",
            "James_City_County          1        0          0           0\n",
            "King_George_County         0        0          1           0\n",
            "King_William_County        0        0          1           0\n",
            "King_and_Queen_County      0        0          1           0\n",
            "Louisa_County              1        0          0           0\n",
            "Madison_County             0        1          0           0\n",
            "Mathews_County             0        0          1           0\n",
            "Nelson_County              0        1          0           0\n",
            "New_Kent_County            1        0          0           0\n",
            "Orange_County              0        0          0           1\n",
            "Page_County                0        0          0           1\n",
            "Powhatan_County            1        0          0           0\n",
            "Prince_George_County       1        0          0           0\n",
            "Prince_William_County      0        0          0           1\n",
            "Rappahannock_County        0        0          0           1\n",
            "Rockbridge_County          0        1          0           0\n",
            "Rockingham_County          0        1          0           0\n",
            "Shenandoah_County          0        0          0           1\n",
            "Spotsylvania_County        0        0          1           0\n",
            "Stafford_County            1        0          0           0\n",
            "Warren_County              0        0          0           1\n",
            "Westmoreland_County        0        0          1           0\n",
            "York_County                0        0          1           0\n",
            ";\n",
            "\n"
          ]
        }
      ]
    },
    {
      "cell_type": "code",
      "source": [
        "#ampl.eval('''expand;''')\n",
        "#ampl.eval('''expand x;''')"
      ],
      "metadata": {
        "id": "4weII3pi6ezg",
        "collapsed": true
      },
      "execution_count": null,
      "outputs": []
    },
    {
      "cell_type": "code",
      "source": [
        "# Display constraint slacks for debugging\n",
        "print(\"\\n--- Constraint Slacks ---\")\n",
        "ampl.eval('display _conname, _con.sstatus, _con.slack;')\n",
        "\n",
        "# Check for infeasibility or unbounded solutions\n",
        "solution_status = ampl.getValue(\"solve_result\")\n",
        "if solution_status in ['infeasible', 'unbounded']:\n",
        "    print(f\"Warning: Solution is {solution_status}. Please review the model and input data.\")\n",
        "else:\n",
        "    print(f\"Solution status: {solution_status}\")\n"
      ],
      "metadata": {
        "colab": {
          "base_uri": "https://localhost:8080/"
        },
        "collapsed": true,
        "id": "--7x71JvkUKT",
        "outputId": "6b915338-2742-4193-dbef-6980be0f4a66"
      },
      "execution_count": null,
      "outputs": [
        {
          "output_type": "stream",
          "name": "stdout",
          "text": [
            "\n",
            "--- Constraint Slacks ---\n",
            "# $2 = _con.sstatus\n",
            ":                          _conname                           $2  _con.slack\n",
            " :=\n",
            "1    \"assignment_constraint['Albemarle_County']\"             none      0\n",
            "2    \"assignment_constraint['Amherst_County']\"               none      0\n",
            "3    \"assignment_constraint['Augusta_County']\"               none      0\n",
            "4    \"assignment_constraint['Buckingham_County']\"            none      0\n",
            "5    \"assignment_constraint['Caroline_County']\"              none      0\n",
            "6    \"assignment_constraint['Charles_City_County']\"          none      0\n",
            "7    \"assignment_constraint['Chesterfield_County']\"          none      0\n",
            "8    \"assignment_constraint['City_of_Fredericksburg']\"       none      0\n",
            "9    \"assignment_constraint['City_of_Richmond']\"             none      0\n",
            "10   \"assignment_constraint['Culpeper_County']\"              none      0\n",
            "11   \"assignment_constraint['Cumberland_County']\"            none      0\n",
            "12   \"assignment_constraint['Dinwiddie_County']\"             none      0\n",
            "13   \"assignment_constraint['Essex_County']\"                 none      0\n",
            "14   \"assignment_constraint['Fauquier_County']\"              none      0\n",
            "15   \"assignment_constraint['Fluvanna_County']\"              none      0\n",
            "16   \"assignment_constraint['Goochland_County']\"             none      0\n",
            "17   \"assignment_constraint['Greene_County']\"                none      0\n",
            "18   \"assignment_constraint['Hanover_County']\"               none      0\n",
            "19   \"assignment_constraint['Henrico_County']\"               none      0\n",
            "20   \"assignment_constraint['Hopewell_County']\"              none      0\n",
            "21   \"assignment_constraint['James_City_County']\"            none      0\n",
            "22   \"assignment_constraint['King_and_Queen_County']\"        none      0\n",
            "23   \"assignment_constraint['King_George_County']\"           none      0\n",
            "24   \"assignment_constraint['King_William_County']\"          none      0\n",
            "25   \"assignment_constraint['Louisa_County']\"                none      0\n",
            "26   \"assignment_constraint['Madison_County']\"               none      0\n",
            "27   \"assignment_constraint['Mathews_County']\"               none      0\n",
            "28   \"assignment_constraint['Nelson_County']\"                none      0\n",
            "29   \"assignment_constraint['New_Kent_County']\"              none      0\n",
            "30   \"assignment_constraint['Orange_County']\"                none      0\n",
            "31   \"assignment_constraint['Page_County']\"                  none      0\n",
            "32   \"assignment_constraint['Powhatan_County']\"              none      0\n",
            "33   \"assignment_constraint['Prince_George_County']\"         none      0\n",
            "34   \"assignment_constraint['Prince_William_County']\"        none      0\n",
            "35   \"assignment_constraint['Rappahannock_County']\"          none      0\n",
            "36   \"assignment_constraint['Rockbridge_County']\"            none      0\n",
            "37   \"assignment_constraint['Rockingham_County']\"            none      0\n",
            "38   \"assignment_constraint['Shenandoah_County']\"            none      0\n",
            "39   \"assignment_constraint['Spotsylvania_County']\"          none      0\n",
            "40   \"assignment_constraint['Stafford_County']\"              none      0\n",
            "41   \"assignment_constraint['Warren_County']\"                none      0\n",
            "42   \"assignment_constraint['Westmoreland_County']\"          none      0\n",
            "43   \"assignment_constraint['York_County']\"                  none      0\n",
            "44   \"capacity_constraint['Richmond','Inventory']\"           none   2415.2\n",
            "45   \"capacity_constraint['Richmond','Payroll']\"             none    294.8\n",
            "46   \"capacity_constraint['Richmond','Hiring']\"              none    127.42\n",
            "47   \"capacity_constraint['Richmond','Marketing']\"           none    621.38\n",
            "48   \"capacity_constraint['Richmond','Merchandising']\"       none   3003.6\n",
            "49   \"capacity_constraint['Tappahannock','Inventory']\"       none   2664.76\n",
            "50   \"capacity_constraint['Tappahannock','Payroll']\"         none   4606.02\n",
            "51   \"capacity_constraint['Tappahannock','Hiring']\"          none   1466.96\n",
            "52   \"capacity_constraint['Tappahannock','Marketing']\"       none    825.9\n",
            "53   \"capacity_constraint['Tappahannock','Merchandising']\"   none    891.72\n",
            "54   \"capacity_constraint['Warrenton','Inventory']\"          none     69.04\n",
            "55   \"capacity_constraint['Warrenton','Payroll']\"            none   1081.56\n",
            "56   \"capacity_constraint['Warrenton','Hiring']\"             none   1860.42\n",
            "57   \"capacity_constraint['Warrenton','Marketing']\"          none    700.1\n",
            "58   \"capacity_constraint['Warrenton','Merchandising']\"      none     21.22\n",
            "59   \"capacity_constraint['Staunton','Inventory']\"           none   1713.58\n",
            "60   \"capacity_constraint['Staunton','Payroll']\"             none     50.42\n",
            "61   \"capacity_constraint['Staunton','Hiring']\"              none   1505.08\n",
            "62   \"capacity_constraint['Staunton','Marketing']\"           none    624.78\n",
            "63   \"capacity_constraint['Staunton','Merchandising']\"       none   1392.12\n",
            ";\n",
            "\n",
            "Solution status: solved\n"
          ]
        }
      ]
    },
    {
      "cell_type": "markdown",
      "source": [
        "**Observations**\n",
        "\n",
        "Geographic Misalignment:\n",
        "\n",
        "1) Stafford_County is assigned to Richmond, even though Warrenton is geographically closer.\n",
        "\n",
        "2) King_William_County, King_and_Queen_County, and York_County are assigned to Tappahannock, which might align with cost efficiency but could disrupt operations due to travel times.\n",
        "\n",
        "These assignments indicate that the optimization model prioritized cost over geographic feasibility."
      ],
      "metadata": {
        "id": "Uga_TzaOQUh5"
      }
    },
    {
      "cell_type": "markdown",
      "source": [
        "# **PART C**"
      ],
      "metadata": {
        "id": "WA-lEuEgQH8b"
      }
    },
    {
      "cell_type": "markdown",
      "source": [
        "**Remedies and Ramifications**\n",
        "\n",
        "1) Introduce Geographic Constraints:\n",
        "\n",
        "Add a constraint to limit the maximum allowable distance or travel time between a store and its assigned regional office:"
      ],
      "metadata": {
        "id": "okZ1XNMfQUen"
      }
    },
    {
      "cell_type": "code",
      "source": [
        "# Define a maximum distance or travel time threshold\n",
        "MAX_DISTANCE = 100\n",
        "MAX_TRAVEL_TIME = 2\n",
        "\n",
        "ampl.eval(f'''\n",
        "subject to geographic_distance_constraint {{i in R, j in S}}:\n",
        "    distance[i, j] <= {MAX_DISTANCE};\n",
        "\n",
        "subject to geographic_time_constraint {{i in R, j in S}}:\n",
        "    travel_time[i, j] <= {MAX_TRAVEL_TIME};\n",
        "''')\n",
        "\n",
        "# Solve the model with geographic constraints\n",
        "ampl.solve()\n",
        "\n",
        "# Extract and display the updated solution\n",
        "total_cost_with_constraints = ampl.getObjective('total_travel_cost').value()\n",
        "print(f\"Total Cost with Geographic Constraints: ${total_cost_with_constraints:,.2f}\")\n",
        "\n",
        "x_result_constrained = ampl.getVariable('x').getValues().toPandas()\n",
        "print(\"\\nUpdated Assignments with Geographic Constraints:\")\n",
        "print(x_result_constrained[x_result_constrained['x.val'] > 0.5])\n"
      ],
      "metadata": {
        "colab": {
          "base_uri": "https://localhost:8080/"
        },
        "id": "7qugk7iUQTOO",
        "outputId": "01b54583-69ab-425a-a4cc-22600949ed6c"
      },
      "execution_count": null,
      "outputs": [
        {
          "output_type": "stream",
          "name": "stdout",
          "text": [
            "Warning:\n",
            "\tpresolve, constraint geographic_distance_constraint['Richmond','Albemarle_County']:\n",
            "\t\tno variables, but lower bound = -Infinity, upper = -40\n",
            "\tpresolve, constraint geographic_distance_constraint['Richmond','Amherst_County']:\n",
            "\t\tno variables, but lower bound = -Infinity, upper = -140\n",
            "\tpresolve, constraint geographic_distance_constraint['Richmond','Augusta_County']:\n",
            "\t\tno variables, but lower bound = -Infinity, upper = -999900\n",
            "\tpresolve, constraint geographic_distance_constraint['Richmond','Buckingham_County']:\n",
            "\t\tno variables, but lower bound = -Infinity, upper = -44\n",
            "\tpresolve, constraint geographic_distance_constraint['Richmond','City_of_Fredericksburg']:\n",
            "\t\tno variables, but lower bound = -Infinity, upper = -18\n",
            "\t523 presolve messages suppressed.\n",
            "Total Cost with Geographic Constraints: $195,479.31\n",
            "\n",
            "Updated Assignments with Geographic Constraints:\n",
            "                                     x.val\n",
            "index0       index1                       \n",
            "Richmond     Charles_City_County         1\n",
            "             Chesterfield_County         1\n",
            "             City_of_Richmond            1\n",
            "             Cumberland_County           1\n",
            "             Dinwiddie_County            1\n",
            "             Fluvanna_County             1\n",
            "             Goochland_County            1\n",
            "             Hanover_County              1\n",
            "             Henrico_County              1\n",
            "             Hopewell_County             1\n",
            "             James_City_County           1\n",
            "             Louisa_County               1\n",
            "             New_Kent_County             1\n",
            "             Powhatan_County             1\n",
            "             Prince_George_County        1\n",
            "             Stafford_County             1\n",
            "Staunton     Albemarle_County            1\n",
            "             Amherst_County              1\n",
            "             Augusta_County              1\n",
            "             Buckingham_County           1\n",
            "             Greene_County               1\n",
            "             Madison_County              1\n",
            "             Nelson_County               1\n",
            "             Rockbridge_County           1\n",
            "             Rockingham_County           1\n",
            "Tappahannock Caroline_County             1\n",
            "             City_of_Fredericksburg      1\n",
            "             Essex_County                1\n",
            "             King_George_County          1\n",
            "             King_William_County         1\n",
            "             King_and_Queen_County       1\n",
            "             Mathews_County              1\n",
            "             Spotsylvania_County         1\n",
            "             Westmoreland_County         1\n",
            "             York_County                 1\n",
            "Warrenton    Culpeper_County             1\n",
            "             Fauquier_County             1\n",
            "             Orange_County               1\n",
            "             Page_County                 1\n",
            "             Prince_William_County       1\n",
            "             Rappahannock_County         1\n",
            "             Shenandoah_County           1\n",
            "             Warren_County               1\n"
          ]
        }
      ]
    },
    {
      "cell_type": "markdown",
      "source": [
        "2) Manually Adjust Assignments:\n",
        "\n",
        "Reassign stores like Stafford_County to their nearest office (Warrenton) based on geographic intuition:"
      ],
      "metadata": {
        "id": "slWvnSXGSRrJ"
      }
    },
    {
      "cell_type": "code",
      "source": [
        "ampl.eval('''\n",
        "subject to reassign_stafford:\n",
        "    x['Warrenton', 'Stafford_County'] = 1;\n",
        "''')\n",
        "\n",
        "# Solve the model with manual adjustments\n",
        "ampl.solve()\n",
        "\n",
        "# Extract and display the updated solution\n",
        "total_cost_manual_adjustments = ampl.getObjective('total_travel_cost').value()\n",
        "print(f\"Total Cost with Manual Adjustments: ${total_cost_manual_adjustments:,.2f}\")\n",
        "\n",
        "x_result_manual = ampl.getVariable('x').getValues().toPandas()\n",
        "print(\"\\nUpdated Assignments with Manual Adjustments:\")\n",
        "print(x_result_manual[x_result_manual['x.val'] > 0.5])\n"
      ],
      "metadata": {
        "colab": {
          "base_uri": "https://localhost:8080/"
        },
        "id": "iAgybuRzQTLG",
        "outputId": "5c7d57cb-4304-47dc-9f9b-e138520150ee"
      },
      "execution_count": null,
      "outputs": [
        {
          "output_type": "stream",
          "name": "stdout",
          "text": [
            "Warning:\n",
            "\tpresolve, constraint geographic_distance_constraint['Richmond','Albemarle_County']:\n",
            "\t\tno variables, but lower bound = -Infinity, upper = -40\n",
            "\tpresolve, constraint geographic_distance_constraint['Richmond','Amherst_County']:\n",
            "\t\tno variables, but lower bound = -Infinity, upper = -140\n",
            "\tpresolve, constraint geographic_distance_constraint['Richmond','Augusta_County']:\n",
            "\t\tno variables, but lower bound = -Infinity, upper = -999900\n",
            "\tpresolve, constraint geographic_distance_constraint['Richmond','Buckingham_County']:\n",
            "\t\tno variables, but lower bound = -Infinity, upper = -44\n",
            "\tpresolve, constraint geographic_distance_constraint['Richmond','City_of_Fredericksburg']:\n",
            "\t\tno variables, but lower bound = -Infinity, upper = -18\n",
            "\t523 presolve messages suppressed.\n",
            "Total Cost with Manual Adjustments: $194,130.69\n",
            "\n",
            "Updated Assignments with Manual Adjustments:\n",
            "                                     x.val\n",
            "index0       index1                       \n",
            "Richmond     Charles_City_County         1\n",
            "             Chesterfield_County         1\n",
            "             City_of_Richmond            1\n",
            "             Cumberland_County           1\n",
            "             Dinwiddie_County            1\n",
            "             Fluvanna_County             1\n",
            "             Goochland_County            1\n",
            "             Hanover_County              1\n",
            "             Henrico_County              1\n",
            "             Hopewell_County             1\n",
            "             James_City_County           1\n",
            "             Louisa_County               1\n",
            "             New_Kent_County             1\n",
            "             Powhatan_County             1\n",
            "             Prince_George_County        1\n",
            "Staunton     Albemarle_County            1\n",
            "             Amherst_County              1\n",
            "             Augusta_County              1\n",
            "             Buckingham_County           1\n",
            "             Greene_County               1\n",
            "             Madison_County              1\n",
            "             Nelson_County               1\n",
            "             Rockbridge_County           1\n",
            "             Rockingham_County           1\n",
            "Tappahannock Caroline_County             1\n",
            "             City_of_Fredericksburg      1\n",
            "             Essex_County                1\n",
            "             King_George_County          1\n",
            "             King_William_County         1\n",
            "             King_and_Queen_County       1\n",
            "             Mathews_County              1\n",
            "             Spotsylvania_County         1\n",
            "             Westmoreland_County         1\n",
            "             York_County                 1\n",
            "Warrenton    Culpeper_County             1\n",
            "             Fauquier_County             1\n",
            "             Orange_County               1\n",
            "             Page_County                 1\n",
            "             Prince_William_County       1\n",
            "             Rappahannock_County         1\n",
            "             Shenandoah_County           1\n",
            "             Stafford_County             1\n",
            "             Warren_County               1\n"
          ]
        }
      ]
    },
    {
      "cell_type": "markdown",
      "source": [
        "**Compare the Results of All Remedies**"
      ],
      "metadata": {
        "id": "qlzmKuZFSuCh"
      }
    },
    {
      "cell_type": "code",
      "source": [
        "import pandas as pd\n",
        "\n",
        "# Process the original results (already correct)\n",
        "x_result = x_result[['Regional Office', 'Store', 'Assignment']]  # This is already structured correctly\n",
        "\n",
        "# Process Remedy 1 results\n",
        "x_result_constrained = x_result_constrained.reset_index()  # Reset the multi-index\n",
        "x_result_constrained.columns = ['Regional Office', 'Store', 'Assignment']  # Rename columns\n",
        "\n",
        "# Process Remedy 2 results\n",
        "x_result_manual = x_result_manual.reset_index()  # Reset the multi-index\n",
        "x_result_manual.columns = ['Regional Office', 'Store', 'Assignment']  # Rename columns\n",
        "\n",
        "# Combine the results for comparison\n",
        "comparison_df = pd.concat([\n",
        "    x_result.set_index(['Regional Office', 'Store'])['Assignment'],  # Original\n",
        "    x_result_constrained.set_index(['Regional Office', 'Store'])['Assignment'],  # Remedy 1\n",
        "    x_result_manual.set_index(['Regional Office', 'Store'])['Assignment']  # Remedy 2\n",
        "], axis=1)\n",
        "comparison_df.columns = ['Original', 'With Constraints', 'Manual Adjustments']\n",
        "\n",
        "# Display assignments that differ across remedies\n",
        "print(\"\\n--- Assignment Comparison Across Remedies ---\")\n",
        "differences = comparison_df[(comparison_df['Original'] != comparison_df['With Constraints']) |\n",
        "                             (comparison_df['Original'] != comparison_df['Manual Adjustments']) |\n",
        "                             (comparison_df['With Constraints'] != comparison_df['Manual Adjustments'])]\n",
        "print(differences)\n"
      ],
      "metadata": {
        "colab": {
          "base_uri": "https://localhost:8080/"
        },
        "id": "-2nqMGQxOG2t",
        "outputId": "07b58ca4-db59-4e12-f3fe-1e314f31f590"
      },
      "execution_count": null,
      "outputs": [
        {
          "output_type": "stream",
          "name": "stdout",
          "text": [
            "\n",
            "--- Assignment Comparison Across Remedies ---\n",
            "                                     Original  With Constraints  \\\n",
            "Regional Office Store                                             \n",
            "Warrenton       Stafford_County           1.0                 0   \n",
            "Richmond        Albemarle_County          NaN                 0   \n",
            "                Amherst_County            NaN                 0   \n",
            "                Augusta_County            NaN                 0   \n",
            "                Buckingham_County         NaN                 0   \n",
            "...                                       ...               ...   \n",
            "Warrenton       Rockbridge_County         NaN                 0   \n",
            "                Rockingham_County         NaN                 0   \n",
            "                Spotsylvania_County       NaN                 0   \n",
            "                Westmoreland_County       NaN                 0   \n",
            "                York_County               NaN                 0   \n",
            "\n",
            "                                     Manual Adjustments  \n",
            "Regional Office Store                                    \n",
            "Warrenton       Stafford_County                       1  \n",
            "Richmond        Albemarle_County                      0  \n",
            "                Amherst_County                        0  \n",
            "                Augusta_County                        0  \n",
            "                Buckingham_County                     0  \n",
            "...                                                 ...  \n",
            "Warrenton       Rockbridge_County                     0  \n",
            "                Rockingham_County                     0  \n",
            "                Spotsylvania_County                   0  \n",
            "                Westmoreland_County                   0  \n",
            "                York_County                           0  \n",
            "\n",
            "[130 rows x 3 columns]\n"
          ]
        }
      ]
    },
    {
      "cell_type": "code",
      "source": [
        "# Print summary of total costs for Original, Remedy 1, and Remedy 2\n",
        "print(\"\\n--- Comparison of Remedies ---\")\n",
        "print(f\"Original Total Cost: ${total_cost:,.2f}\")\n",
        "print(f\"Total Cost with Geographic Constraints: ${total_cost_with_constraints:,.2f}\")\n",
        "print(f\"Total Cost with Manual Adjustments: ${total_cost_manual_adjustments:,.2f}\")\n",
        "\n",
        "\n"
      ],
      "metadata": {
        "colab": {
          "base_uri": "https://localhost:8080/"
        },
        "id": "tP0lADw_SyrH",
        "outputId": "b938c1c0-8ccd-4d36-b478-7624a4aed11b"
      },
      "execution_count": null,
      "outputs": [
        {
          "output_type": "stream",
          "name": "stdout",
          "text": [
            "\n",
            "--- Comparison of Remedies ---\n",
            "Original Total Cost: $195,479.31\n",
            "Total Cost with Geographic Constraints: $195,479.31\n",
            "Total Cost with Manual Adjustments: $194,130.69\n"
          ]
        }
      ]
    },
    {
      "cell_type": "markdown",
      "source": [
        "The original optimization achieved a total cost of **$195,479.31**, focusing solely on minimizing travel and salary costs without considering geographic feasibility.\n",
        "\n",
        "Explicitly reassigning **Stafford_County to Warrenton** reduced the total cost to **$194,130.69**, showing that a targeted intervention can both enhance geographic feasibility and improve cost efficiency."
      ],
      "metadata": {
        "id": "V2kTIJ39a6U4"
      }
    }
  ]
}